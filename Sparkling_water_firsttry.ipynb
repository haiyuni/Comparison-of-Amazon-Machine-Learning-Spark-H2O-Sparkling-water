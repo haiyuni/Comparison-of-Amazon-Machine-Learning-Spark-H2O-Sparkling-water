{
 "cells": [
  {
   "cell_type": "code",
   "execution_count": 2,
   "metadata": {
    "collapsed": false
   },
   "outputs": [],
   "source": [
    "from pysparkling import *"
   ]
  },
  {
   "cell_type": "code",
   "execution_count": 3,
   "metadata": {
    "collapsed": false
   },
   "outputs": [
    {
     "name": "stdout",
     "output_type": "stream",
     "text": [
      "Connecting to H2O server at http://10.0.2.15:54321... successful.\n"
     ]
    },
    {
     "data": {
      "text/html": [
       "<div style=\"overflow:auto\"><table style=\"width:50%\"><tr><td>H2O cluster uptime:</td>\n",
       "<td>16 secs</td></tr>\n",
       "<tr><td>H2O cluster version:</td>\n",
       "<td>3.14.0.2</td></tr>\n",
       "<tr><td>H2O cluster version age:</td>\n",
       "<td>3 months and 10 days !!!</td></tr>\n",
       "<tr><td>H2O cluster name:</td>\n",
       "<td>sparkling-water-cloudera_local-1512245184552</td></tr>\n",
       "<tr><td>H2O cluster total nodes:</td>\n",
       "<td>1</td></tr>\n",
       "<tr><td>H2O cluster free memory:</td>\n",
       "<td>716 Mb</td></tr>\n",
       "<tr><td>H2O cluster total cores:</td>\n",
       "<td>1</td></tr>\n",
       "<tr><td>H2O cluster allowed cores:</td>\n",
       "<td>1</td></tr>\n",
       "<tr><td>H2O cluster status:</td>\n",
       "<td>accepting new members, healthy</td></tr>\n",
       "<tr><td>H2O connection url:</td>\n",
       "<td>http://10.0.2.15:54321</td></tr>\n",
       "<tr><td>H2O connection proxy:</td>\n",
       "<td>None</td></tr>\n",
       "<tr><td>H2O internal security:</td>\n",
       "<td>False</td></tr>\n",
       "<tr><td>H2O API Extensions:</td>\n",
       "<td>AutoML, Algos, Core V3, Core V4</td></tr>\n",
       "<tr><td>Python version:</td>\n",
       "<td>2.7.13 final</td></tr></table></div>"
      ],
      "text/plain": [
       "--------------------------  --------------------------------------------\n",
       "H2O cluster uptime:         16 secs\n",
       "H2O cluster version:        3.14.0.2\n",
       "H2O cluster version age:    3 months and 10 days !!!\n",
       "H2O cluster name:           sparkling-water-cloudera_local-1512245184552\n",
       "H2O cluster total nodes:    1\n",
       "H2O cluster free memory:    716 Mb\n",
       "H2O cluster total cores:    1\n",
       "H2O cluster allowed cores:  1\n",
       "H2O cluster status:         accepting new members, healthy\n",
       "H2O connection url:         http://10.0.2.15:54321\n",
       "H2O connection proxy:\n",
       "H2O internal security:      False\n",
       "H2O API Extensions:         AutoML, Algos, Core V3, Core V4\n",
       "Python version:             2.7.13 final\n",
       "--------------------------  --------------------------------------------"
      ]
     },
     "metadata": {},
     "output_type": "display_data"
    }
   ],
   "source": [
    "import h2o\n",
    "hc = H2OContext.getOrCreate(sc)"
   ]
  },
  {
   "cell_type": "code",
   "execution_count": 4,
   "metadata": {
    "collapsed": false
   },
   "outputs": [
    {
     "data": {
      "text/plain": [
       "True"
      ]
     },
     "execution_count": 4,
     "metadata": {},
     "output_type": "execute_result"
    }
   ],
   "source": [
    "hc.is_initialized"
   ]
  },
  {
   "cell_type": "code",
   "execution_count": 5,
   "metadata": {
    "collapsed": false
   },
   "outputs": [
    {
     "name": "stdout",
     "output_type": "stream",
     "text": [
      "Parse progress: |█████████████████████████████████████████████████████████| 100%\n"
     ]
    }
   ],
   "source": [
    "kkbox_csv = \"/vagrant/project/final_with_churn.csv\"  # modify this for your machine\n",
    "# Alternatively, you can import the data directly from a URL\n",
    "#loan_csv = \"https://raw.githubusercontent.com/h2oai/app-consumer-loan/master/data/loan.csv\"\n",
    "data = h2o.import_file(kkbox_csv)  # 163,987 rows x 15 columns"
   ]
  },
  {
   "cell_type": "code",
   "execution_count": 6,
   "metadata": {
    "collapsed": false
   },
   "outputs": [
    {
     "data": {
      "text/plain": [
       "(992931, 20)"
      ]
     },
     "execution_count": 6,
     "metadata": {},
     "output_type": "execute_result"
    }
   ],
   "source": [
    "data.shape"
   ]
  },
  {
   "cell_type": "code",
   "execution_count": 7,
   "metadata": {
    "collapsed": false
   },
   "outputs": [
    {
     "data": {
      "text/plain": [
       "[u'user_id',\n",
       " u'days_used',\n",
       " u'total_transactions',\n",
       " u'total_num_25',\n",
       " u'total_num_50',\n",
       " u'total_num_75',\n",
       " u'total_num_985',\n",
       " u'total_num_100',\n",
       " u'avg_unique_songs',\n",
       " u'avg_total_secs',\n",
       " u'avg_plan_length',\n",
       " u'avg_expected_plan_price',\n",
       " u'avg_actual_plan_price',\n",
       " u'max_expiration_date',\n",
       " u'min_transaction_date',\n",
       " u'city',\n",
       " u'age',\n",
       " u'gender',\n",
       " u'registered_via',\n",
       " u'is_churn']"
      ]
     },
     "execution_count": 7,
     "metadata": {},
     "output_type": "execute_result"
    }
   ],
   "source": [
    "data.columns"
   ]
  },
  {
   "cell_type": "code",
   "execution_count": 8,
   "metadata": {
    "collapsed": false
   },
   "outputs": [
    {
     "data": {
      "text/plain": [
       "[['0', '1']]"
      ]
     },
     "execution_count": 8,
     "metadata": {},
     "output_type": "execute_result"
    }
   ],
   "source": [
    "#data['bad_loan'] = data['bad_loan'].asfactor()  #encode the binary repsonse as a factor\n",
    "#data['bad_loan'].levels()  #optional: after encoding, this shows the two factor levels, '0' and '1'\n",
    "\n",
    "data['is_churn'] = data['is_churn'].asfactor()\n",
    "data['is_churn'].levels()"
   ]
  },
  {
   "cell_type": "code",
   "execution_count": 9,
   "metadata": {
    "collapsed": false
   },
   "outputs": [
    {
     "data": {
      "text/html": [
       "<table>\n",
       "<thead>\n",
       "<tr><th style=\"text-align: right;\">  C1</th></tr>\n",
       "</thead>\n",
       "<tbody>\n",
       "<tr><td style=\"text-align: right;\">   0</td></tr>\n",
       "</tbody>\n",
       "</table>"
      ]
     },
     "metadata": {},
     "output_type": "display_data"
    },
    {
     "data": {
      "text/plain": []
     },
     "execution_count": 9,
     "metadata": {},
     "output_type": "execute_result"
    }
   ],
   "source": [
    "data['min_transaction_date'].isna().unique()"
   ]
  },
  {
   "cell_type": "code",
   "execution_count": 10,
   "metadata": {
    "collapsed": false
   },
   "outputs": [],
   "source": [
    "#clean up the data dropna\n",
    "#for columns in total_num assume no usage for NAs\n",
    "#example : df[\"sepal_len\"] = (df[\"sepal_len\"].isna()).ifelse(0, df[\"sepal_len\"])\n",
    "data['total_num_25'] = (data['total_num_25'].isna()).ifelse(0, data['total_num_25'])"
   ]
  },
  {
   "cell_type": "code",
   "execution_count": 11,
   "metadata": {
    "collapsed": false
   },
   "outputs": [],
   "source": [
    "columns = [u'total_num_50',\n",
    " u'total_num_75',\n",
    " u'total_num_985',\n",
    " u'total_num_100',\n",
    " u'avg_unique_songs',\n",
    " u'avg_total_secs',\n",
    " u'avg_plan_length',\n",
    " u'avg_expected_plan_price',\n",
    " u'avg_actual_plan_price']\n",
    "for i in columns:\n",
    "    data[i] = (data[i].isna()).ifelse(0, data[i])"
   ]
  },
  {
   "cell_type": "code",
   "execution_count": 12,
   "metadata": {
    "collapsed": false
   },
   "outputs": [],
   "source": [
    "data['gender'] = (data['gender'].entropy().isna() == 1).ifelse('NotProvided', data['gender'])"
   ]
  },
  {
   "cell_type": "code",
   "execution_count": 13,
   "metadata": {
    "collapsed": false
   },
   "outputs": [
    {
     "data": {
      "text/html": [
       "<table>\n",
       "<thead>\n",
       "<tr><th>gender     </th></tr>\n",
       "</thead>\n",
       "<tbody>\n",
       "<tr><td>\\N         </td></tr>\n",
       "<tr><td>NotProvided</td></tr>\n",
       "<tr><td>NotProvided</td></tr>\n",
       "<tr><td>\\N         </td></tr>\n",
       "<tr><td>male       </td></tr>\n",
       "<tr><td>\\N         </td></tr>\n",
       "<tr><td>male       </td></tr>\n",
       "<tr><td>\\N         </td></tr>\n",
       "<tr><td>NotProvided</td></tr>\n",
       "<tr><td>NotProvided</td></tr>\n",
       "</tbody>\n",
       "</table>"
      ]
     },
     "metadata": {},
     "output_type": "display_data"
    },
    {
     "data": {
      "text/plain": []
     },
     "execution_count": 13,
     "metadata": {},
     "output_type": "execute_result"
    }
   ],
   "source": [
    "data['gender']"
   ]
  },
  {
   "cell_type": "code",
   "execution_count": 14,
   "metadata": {
    "collapsed": false
   },
   "outputs": [
    {
     "name": "stdout",
     "output_type": "stream",
     "text": [
      "(696634, 20)\n"
     ]
    }
   ],
   "source": [
    "data_cleaned = data.na_omit()\n",
    "print data_cleaned.shape"
   ]
  },
  {
   "cell_type": "code",
   "execution_count": null,
   "metadata": {
    "collapsed": false
   },
   "outputs": [],
   "source": [
    "#raw_data['total_num_50'].isnull().value_counts()"
   ]
  },
  {
   "cell_type": "code",
   "execution_count": 15,
   "metadata": {
    "collapsed": true
   },
   "outputs": [],
   "source": [
    "# Partition data into 70%, 15%, 15% chunks\n",
    "# Setting a seed will guarantee reproducibility\n",
    "\n",
    "splits = data_cleaned.split_frame(ratios=[0.7], seed=1)  \n",
    "\n",
    "train = splits[0]\n",
    "test = splits[1]"
   ]
  },
  {
   "cell_type": "code",
   "execution_count": 16,
   "metadata": {
    "collapsed": false
   },
   "outputs": [
    {
     "name": "stdout",
     "output_type": "stream",
     "text": [
      "487798\n",
      "208836\n"
     ]
    }
   ],
   "source": [
    "print train.nrow\n",
    "print test.nrow"
   ]
  },
  {
   "cell_type": "markdown",
   "metadata": {},
   "source": [
    "Identify response and predictor variables"
   ]
  },
  {
   "cell_type": "code",
   "execution_count": 17,
   "metadata": {
    "collapsed": true
   },
   "outputs": [],
   "source": [
    "y = 'is_churn'\n",
    "x = list(data.columns[1:len(data.columns) -1])"
   ]
  },
  {
   "cell_type": "code",
   "execution_count": 18,
   "metadata": {
    "collapsed": false
   },
   "outputs": [
    {
     "data": {
      "text/plain": [
       "[u'days_used',\n",
       " u'total_transactions',\n",
       " u'total_num_25',\n",
       " u'total_num_50',\n",
       " u'total_num_75',\n",
       " u'total_num_985',\n",
       " u'total_num_100',\n",
       " u'avg_unique_songs',\n",
       " u'avg_total_secs',\n",
       " u'avg_plan_length',\n",
       " u'avg_expected_plan_price',\n",
       " u'avg_actual_plan_price',\n",
       " u'max_expiration_date',\n",
       " u'min_transaction_date',\n",
       " u'city',\n",
       " u'age',\n",
       " u'gender',\n",
       " u'registered_via']"
      ]
     },
     "execution_count": 18,
     "metadata": {},
     "output_type": "execute_result"
    }
   ],
   "source": [
    "x"
   ]
  },
  {
   "cell_type": "code",
   "execution_count": 19,
   "metadata": {
    "collapsed": true
   },
   "outputs": [],
   "source": [
    "import time\n",
    "#initial time"
   ]
  },
  {
   "cell_type": "code",
   "execution_count": 20,
   "metadata": {
    "collapsed": true
   },
   "outputs": [],
   "source": [
    "# Import H2O GLM:\n",
    "from h2o.estimators.glm import H2OGeneralizedLinearEstimator"
   ]
  },
  {
   "cell_type": "code",
   "execution_count": 21,
   "metadata": {
    "collapsed": true
   },
   "outputs": [],
   "source": [
    "# Initialize the GLM estimator:\n",
    "# Similar to R's glm() and H2O's R GLM, H2O's GLM has the \"family\" argument\n",
    "\n",
    "glm_fit1 = H2OGeneralizedLinearEstimator(family='binomial', model_id='glm_fit1')"
   ]
  },
  {
   "cell_type": "code",
   "execution_count": 22,
   "metadata": {
    "collapsed": false
   },
   "outputs": [
    {
     "name": "stdout",
     "output_type": "stream",
     "text": [
      "glm Model Build progress: |███████████████████████████████████████████████| 100%\n",
      "logistic regression model fitted in 17.402 s\n"
     ]
    }
   ],
   "source": [
    "t0 = time.time()\n",
    "glm_fit1.train(x=x, y=y, training_frame=train)\n",
    "glm_time = time.time() - t0\n",
    "print (\"logistic regression model fitted in %.3f s\"\n",
    "      % glm_time)"
   ]
  },
  {
   "cell_type": "code",
   "execution_count": 23,
   "metadata": {
    "collapsed": true
   },
   "outputs": [],
   "source": [
    "glm_perf1 = glm_fit1.model_performance(test)"
   ]
  },
  {
   "cell_type": "code",
   "execution_count": 24,
   "metadata": {
    "collapsed": false
   },
   "outputs": [
    {
     "name": "stdout",
     "output_type": "stream",
     "text": [
      "\n",
      "ModelMetricsBinomialGLM: glm\n",
      "** Reported on test data. **\n",
      "\n",
      "MSE: 0.0093796808413\n",
      "RMSE: 0.0968487523993\n",
      "LogLoss: 0.0453401148444\n",
      "Null degrees of freedom: 208835\n",
      "Residual degrees of freedom: 208816\n",
      "Null deviance: 23524.7178989\n",
      "Residual deviance: 20285.0117316\n",
      "AIC: 20325.0117316\n",
      "AUC: 0.865746651576\n",
      "Gini: 0.731493303151\n",
      "Confusion Matrix (Act/Pred) for max f1 @ threshold = 0.100121998648: \n"
     ]
    },
    {
     "data": {
      "text/html": [
       "<div style=\"overflow:auto\"><table style=\"width:50%\"><tr><td><b></b></td>\n",
       "<td><b>0</b></td>\n",
       "<td><b>1</b></td>\n",
       "<td><b>Error</b></td>\n",
       "<td><b>Rate</b></td></tr>\n",
       "<tr><td>0</td>\n",
       "<td>204731.0</td>\n",
       "<td>2002.0</td>\n",
       "<td>0.0097</td>\n",
       "<td> (2002.0/206733.0)</td></tr>\n",
       "<tr><td>1</td>\n",
       "<td>1552.0</td>\n",
       "<td>551.0</td>\n",
       "<td>0.738</td>\n",
       "<td> (1552.0/2103.0)</td></tr>\n",
       "<tr><td>Total</td>\n",
       "<td>206283.0</td>\n",
       "<td>2553.0</td>\n",
       "<td>0.017</td>\n",
       "<td> (3554.0/208836.0)</td></tr></table></div>"
      ],
      "text/plain": [
       "       0       1     Error    Rate\n",
       "-----  ------  ----  -------  -----------------\n",
       "0      204731  2002  0.0097   (2002.0/206733.0)\n",
       "1      1552    551   0.738    (1552.0/2103.0)\n",
       "Total  206283  2553  0.017    (3554.0/208836.0)"
      ]
     },
     "metadata": {},
     "output_type": "display_data"
    },
    {
     "name": "stdout",
     "output_type": "stream",
     "text": [
      "Maximum Metrics: Maximum metrics at their respective thresholds\n",
      "\n"
     ]
    },
    {
     "data": {
      "text/html": [
       "<div style=\"overflow:auto\"><table style=\"width:50%\"><tr><td><b>metric</b></td>\n",
       "<td><b>threshold</b></td>\n",
       "<td><b>value</b></td>\n",
       "<td><b>idx</b></td></tr>\n",
       "<tr><td>max f1</td>\n",
       "<td>0.1001220</td>\n",
       "<td>0.2366838</td>\n",
       "<td>176.0</td></tr>\n",
       "<tr><td>max f2</td>\n",
       "<td>0.0742542</td>\n",
       "<td>0.2586135</td>\n",
       "<td>199.0</td></tr>\n",
       "<tr><td>max f0point5</td>\n",
       "<td>0.1259492</td>\n",
       "<td>0.2293847</td>\n",
       "<td>158.0</td></tr>\n",
       "<tr><td>max accuracy</td>\n",
       "<td>0.9988879</td>\n",
       "<td>0.9899203</td>\n",
       "<td>0.0</td></tr>\n",
       "<tr><td>max precision</td>\n",
       "<td>0.4761247</td>\n",
       "<td>0.45</td>\n",
       "<td>21.0</td></tr>\n",
       "<tr><td>max recall</td>\n",
       "<td>0.0001564</td>\n",
       "<td>1.0</td>\n",
       "<td>399.0</td></tr>\n",
       "<tr><td>max specificity</td>\n",
       "<td>0.9988879</td>\n",
       "<td>0.9999903</td>\n",
       "<td>0.0</td></tr>\n",
       "<tr><td>max absolute_mcc</td>\n",
       "<td>0.0987818</td>\n",
       "<td>0.2293030</td>\n",
       "<td>177.0</td></tr>\n",
       "<tr><td>max min_per_class_accuracy</td>\n",
       "<td>0.0100921</td>\n",
       "<td>0.7799094</td>\n",
       "<td>330.0</td></tr>\n",
       "<tr><td>max mean_per_class_accuracy</td>\n",
       "<td>0.0088990</td>\n",
       "<td>0.7869973</td>\n",
       "<td>336.0</td></tr></table></div>"
      ],
      "text/plain": [
       "metric                       threshold    value     idx\n",
       "---------------------------  -----------  --------  -----\n",
       "max f1                       0.100122     0.236684  176\n",
       "max f2                       0.0742542    0.258614  199\n",
       "max f0point5                 0.125949     0.229385  158\n",
       "max accuracy                 0.998888     0.98992   0\n",
       "max precision                0.476125     0.45      21\n",
       "max recall                   0.000156418  1         399\n",
       "max specificity              0.998888     0.99999   0\n",
       "max absolute_mcc             0.0987818    0.229303  177\n",
       "max min_per_class_accuracy   0.0100921    0.779909  330\n",
       "max mean_per_class_accuracy  0.00889898   0.786997  336"
      ]
     },
     "metadata": {},
     "output_type": "display_data"
    },
    {
     "name": "stdout",
     "output_type": "stream",
     "text": [
      "Gains/Lift Table: Avg response rate:  1.01 %\n",
      "\n"
     ]
    },
    {
     "data": {
      "text/html": [
       "<div style=\"overflow:auto\"><table style=\"width:50%\"><tr><td><b></b></td>\n",
       "<td><b>group</b></td>\n",
       "<td><b>cumulative_data_fraction</b></td>\n",
       "<td><b>lower_threshold</b></td>\n",
       "<td><b>lift</b></td>\n",
       "<td><b>cumulative_lift</b></td>\n",
       "<td><b>response_rate</b></td>\n",
       "<td><b>cumulative_response_rate</b></td>\n",
       "<td><b>capture_rate</b></td>\n",
       "<td><b>cumulative_capture_rate</b></td>\n",
       "<td><b>gain</b></td>\n",
       "<td><b>cumulative_gain</b></td></tr>\n",
       "<tr><td></td>\n",
       "<td>1</td>\n",
       "<td>0.0100031</td>\n",
       "<td>0.1211405</td>\n",
       "<td>22.6749341</td>\n",
       "<td>22.6749341</td>\n",
       "<td>0.2283389</td>\n",
       "<td>0.2283389</td>\n",
       "<td>0.2268188</td>\n",
       "<td>0.2268188</td>\n",
       "<td>2167.4934051</td>\n",
       "<td>2167.4934051</td></tr>\n",
       "<tr><td></td>\n",
       "<td>2</td>\n",
       "<td>0.0200013</td>\n",
       "<td>0.0658713</td>\n",
       "<td>7.7046092</td>\n",
       "<td>15.1915636</td>\n",
       "<td>0.0775862</td>\n",
       "<td>0.1529806</td>\n",
       "<td>0.0770328</td>\n",
       "<td>0.3038516</td>\n",
       "<td>670.4609179</td>\n",
       "<td>1419.1563610</td></tr>\n",
       "<tr><td></td>\n",
       "<td>3</td>\n",
       "<td>0.0300044</td>\n",
       "<td>0.0477564</td>\n",
       "<td>3.3750950</td>\n",
       "<td>11.2521121</td>\n",
       "<td>0.0339876</td>\n",
       "<td>0.1133099</td>\n",
       "<td>0.0337613</td>\n",
       "<td>0.3376129</td>\n",
       "<td>237.5095005</td>\n",
       "<td>1025.2112139</td></tr>\n",
       "<tr><td></td>\n",
       "<td>4</td>\n",
       "<td>0.0400027</td>\n",
       "<td>0.0373657</td>\n",
       "<td>3.1864742</td>\n",
       "<td>9.2361854</td>\n",
       "<td>0.0320881</td>\n",
       "<td>0.0930093</td>\n",
       "<td>0.0318592</td>\n",
       "<td>0.3694722</td>\n",
       "<td>218.6474167</td>\n",
       "<td>823.6185387</td></tr>\n",
       "<tr><td></td>\n",
       "<td>5</td>\n",
       "<td>0.0500010</td>\n",
       "<td>0.0315530</td>\n",
       "<td>2.7108810</td>\n",
       "<td>7.9313745</td>\n",
       "<td>0.0272989</td>\n",
       "<td>0.0798698</td>\n",
       "<td>0.0271041</td>\n",
       "<td>0.3965763</td>\n",
       "<td>171.0881007</td>\n",
       "<td>693.1374475</td></tr>\n",
       "<tr><td></td>\n",
       "<td>6</td>\n",
       "<td>0.1000019</td>\n",
       "<td>0.0188791</td>\n",
       "<td>3.1288036</td>\n",
       "<td>5.5300890</td>\n",
       "<td>0.0315074</td>\n",
       "<td>0.0556886</td>\n",
       "<td>0.1564432</td>\n",
       "<td>0.5530195</td>\n",
       "<td>212.8803600</td>\n",
       "<td>453.0089037</td></tr>\n",
       "<tr><td></td>\n",
       "<td>7</td>\n",
       "<td>0.1500029</td>\n",
       "<td>0.0142194</td>\n",
       "<td>2.2443698</td>\n",
       "<td>4.4348493</td>\n",
       "<td>0.0226010</td>\n",
       "<td>0.0446594</td>\n",
       "<td>0.1122206</td>\n",
       "<td>0.6652401</td>\n",
       "<td>124.4369756</td>\n",
       "<td>343.4849277</td></tr>\n",
       "<tr><td></td>\n",
       "<td>8</td>\n",
       "<td>0.2000038</td>\n",
       "<td>0.0110924</td>\n",
       "<td>1.6357271</td>\n",
       "<td>3.7350687</td>\n",
       "<td>0.0164719</td>\n",
       "<td>0.0376125</td>\n",
       "<td>0.0817879</td>\n",
       "<td>0.7470281</td>\n",
       "<td>63.5727110</td>\n",
       "<td>273.5068735</td></tr>\n",
       "<tr><td></td>\n",
       "<td>9</td>\n",
       "<td>0.3000010</td>\n",
       "<td>0.0077235</td>\n",
       "<td>1.1032176</td>\n",
       "<td>2.8578130</td>\n",
       "<td>0.0111095</td>\n",
       "<td>0.0287785</td>\n",
       "<td>0.1103186</td>\n",
       "<td>0.8573466</td>\n",
       "<td>10.3217621</td>\n",
       "<td>185.7813036</td></tr>\n",
       "<tr><td></td>\n",
       "<td>10</td>\n",
       "<td>0.4000029</td>\n",
       "<td>0.0056958</td>\n",
       "<td>0.6989880</td>\n",
       "<td>2.3181003</td>\n",
       "<td>0.0070389</td>\n",
       "<td>0.0233435</td>\n",
       "<td>0.0699001</td>\n",
       "<td>0.9272468</td>\n",
       "<td>-30.1011962</td>\n",
       "<td>131.8100326</td></tr>\n",
       "<tr><td></td>\n",
       "<td>11</td>\n",
       "<td>0.5</td>\n",
       "<td>0.0043052</td>\n",
       "<td>0.3328674</td>\n",
       "<td>1.9210651</td>\n",
       "<td>0.0033520</td>\n",
       "<td>0.0193453</td>\n",
       "<td>0.0332858</td>\n",
       "<td>0.9605326</td>\n",
       "<td>-66.7132614</td>\n",
       "<td>92.1065145</td></tr>\n",
       "<tr><td></td>\n",
       "<td>12</td>\n",
       "<td>0.6000019</td>\n",
       "<td>0.0029078</td>\n",
       "<td>0.1902008</td>\n",
       "<td>1.6325832</td>\n",
       "<td>0.0019153</td>\n",
       "<td>0.0164403</td>\n",
       "<td>0.0190204</td>\n",
       "<td>0.9795530</td>\n",
       "<td>-80.9799173</td>\n",
       "<td>63.2583154</td></tr>\n",
       "<tr><td></td>\n",
       "<td>13</td>\n",
       "<td>0.6999990</td>\n",
       "<td>0.0018133</td>\n",
       "<td>0.0665735</td>\n",
       "<td>1.4088736</td>\n",
       "<td>0.0006704</td>\n",
       "<td>0.0141875</td>\n",
       "<td>0.0066572</td>\n",
       "<td>0.9862102</td>\n",
       "<td>-93.3426523</td>\n",
       "<td>40.8873607</td></tr>\n",
       "<tr><td></td>\n",
       "<td>14</td>\n",
       "<td>0.8000010</td>\n",
       "<td>0.0014452</td>\n",
       "<td>0.0475502</td>\n",
       "<td>1.2387051</td>\n",
       "<td>0.0004788</td>\n",
       "<td>0.0124739</td>\n",
       "<td>0.0047551</td>\n",
       "<td>0.9909653</td>\n",
       "<td>-95.2449793</td>\n",
       "<td>23.8705127</td></tr>\n",
       "<tr><td></td>\n",
       "<td>15</td>\n",
       "<td>0.8999981</td>\n",
       "<td>0.0011431</td>\n",
       "<td>0.0285315</td>\n",
       "<td>1.1042450</td>\n",
       "<td>0.0002873</td>\n",
       "<td>0.0111199</td>\n",
       "<td>0.0028531</td>\n",
       "<td>0.9938184</td>\n",
       "<td>-97.1468510</td>\n",
       "<td>10.4244966</td></tr>\n",
       "<tr><td></td>\n",
       "<td>16</td>\n",
       "<td>1.0</td>\n",
       "<td>0.0000000</td>\n",
       "<td>0.0618153</td>\n",
       "<td>1.0</td>\n",
       "<td>0.0006225</td>\n",
       "<td>0.0100701</td>\n",
       "<td>0.0061816</td>\n",
       "<td>1.0</td>\n",
       "<td>-93.8184731</td>\n",
       "<td>0.0</td></tr></table></div>"
      ],
      "text/plain": [
       "    group    cumulative_data_fraction    lower_threshold    lift       cumulative_lift    response_rate    cumulative_response_rate    capture_rate    cumulative_capture_rate    gain      cumulative_gain\n",
       "--  -------  --------------------------  -----------------  ---------  -----------------  ---------------  --------------------------  --------------  -------------------------  --------  -----------------\n",
       "    1        0.0100031                   0.121141           22.6749    22.6749            0.228339         0.228339                    0.226819        0.226819                   2167.49   2167.49\n",
       "    2        0.0200013                   0.0658713          7.70461    15.1916            0.0775862        0.152981                    0.0770328       0.303852                   670.461   1419.16\n",
       "    3        0.0300044                   0.0477564          3.3751     11.2521            0.0339876        0.11331                     0.0337613       0.337613                   237.51    1025.21\n",
       "    4        0.0400027                   0.0373657          3.18647    9.23619            0.0320881        0.0930093                   0.0318592       0.369472                   218.647   823.619\n",
       "    5        0.050001                    0.031553           2.71088    7.93137            0.0272989        0.0798698                   0.0271041       0.396576                   171.088   693.137\n",
       "    6        0.100002                    0.0188791          3.1288     5.53009            0.0315074        0.0556886                   0.156443        0.553019                   212.88    453.009\n",
       "    7        0.150003                    0.0142194          2.24437    4.43485            0.022601         0.0446594                   0.112221        0.66524                    124.437   343.485\n",
       "    8        0.200004                    0.0110924          1.63573    3.73507            0.0164719        0.0376125                   0.0817879       0.747028                   63.5727   273.507\n",
       "    9        0.300001                    0.00772348         1.10322    2.85781            0.0111095        0.0287785                   0.110319        0.857347                   10.3218   185.781\n",
       "    10       0.400003                    0.00569584         0.698988   2.3181             0.00703888       0.0233435                   0.0699001       0.927247                   -30.1012  131.81\n",
       "    11       0.5                         0.00430523         0.332867   1.92107            0.00335201       0.0193453                   0.0332858       0.960533                   -66.7133  92.1065\n",
       "    12       0.600002                    0.00290784         0.190201   1.63258            0.00191534       0.0164403                   0.0190204       0.979553                   -80.9799  63.2583\n",
       "    13       0.699999                    0.00181329         0.0665735  1.40887            0.000670402      0.0141875                   0.00665716      0.98621                    -93.3427  40.8874\n",
       "    14       0.800001                    0.00144522         0.0475502  1.23871            0.000478835      0.0124739                   0.00475511      0.990965                   -95.245   23.8705\n",
       "    15       0.899998                    0.00114313         0.0285315  1.10424            0.000287315      0.0111199                   0.00285307      0.993818                   -97.1469  10.4245\n",
       "    16       1                           2.32913e-17        0.0618153  1                  0.000622486      0.0100701                   0.00618165      1                          -93.8185  0"
      ]
     },
     "metadata": {},
     "output_type": "display_data"
    },
    {
     "name": "stdout",
     "output_type": "stream",
     "text": [
      "\n",
      "\n"
     ]
    }
   ],
   "source": [
    "print glm_perf1"
   ]
  },
  {
   "cell_type": "code",
   "execution_count": 25,
   "metadata": {
    "collapsed": false
   },
   "outputs": [
    {
     "name": "stdout",
     "output_type": "stream",
     "text": [
      "0.865746651576\n"
     ]
    }
   ],
   "source": [
    "print glm_perf1.auc()"
   ]
  },
  {
   "cell_type": "markdown",
   "metadata": {},
   "source": [
    "## Random Forest"
   ]
  },
  {
   "cell_type": "markdown",
   "metadata": {},
   "source": [
    "import classifier"
   ]
  },
  {
   "cell_type": "code",
   "execution_count": 26,
   "metadata": {
    "collapsed": true
   },
   "outputs": [],
   "source": [
    "# Import H2O RF:\n",
    "from h2o.estimators.random_forest import H2ORandomForestEstimator\n",
    "# Import gridsearch\n",
    "from h2o.grid.grid_search import H2OGridSearch"
   ]
  },
  {
   "cell_type": "code",
   "execution_count": 27,
   "metadata": {
    "collapsed": false
   },
   "outputs": [],
   "source": [
    "# Specify parameters for decision trees\n",
    "hyper_parameters = {'ntrees': [200, 300, 400], 'max_depth': [10, 15, 20]}\n",
    "#build grid estimator\n",
    "rf = H2ORandomForestEstimator(model_id='rf_fit1',seed=6)\n",
    "gs_rf = H2OGridSearch(rf,hyper_parameters)"
   ]
  },
  {
   "cell_type": "code",
   "execution_count": 28,
   "metadata": {
    "collapsed": false
   },
   "outputs": [
    {
     "name": "stdout",
     "output_type": "stream",
     "text": [
      "drf Model Build progress: |███████████████████████████████████████████████| 100%\n",
      "random forest model fitted in 416.951 s\n"
     ]
    }
   ],
   "source": [
    "\n",
    "rf_fit2 = H2ORandomForestEstimator(ntrees = 400, max_depth = 10, seed = 6, model_id='rf_fit2')\n",
    "t0 = time.time()\n",
    "rf_fit2.train(x=x, y=y, training_frame=train)\n",
    "\n",
    "rf_time = time.time() - t0\n",
    "print (\"random forest model fitted in %.3f s\"\n",
    "      % rf_time)"
   ]
  },
  {
   "cell_type": "code",
   "execution_count": 29,
   "metadata": {
    "collapsed": true
   },
   "outputs": [],
   "source": [
    "rf_perf2 = rf_fit2.model_performance(test)"
   ]
  },
  {
   "cell_type": "code",
   "execution_count": 30,
   "metadata": {
    "collapsed": false
   },
   "outputs": [
    {
     "name": "stdout",
     "output_type": "stream",
     "text": [
      "\n",
      "ModelMetricsBinomial: drf\n",
      "** Reported on test data. **\n",
      "\n",
      "MSE: 0.0084038621512\n",
      "RMSE: 0.09167258124\n",
      "LogLoss: 0.0380630509651\n",
      "Mean Per-Class Error: 0.143807873419\n",
      "AUC: 0.92289421605\n",
      "Gini: 0.8457884321\n",
      "Confusion Matrix (Act/Pred) for max f1 @ threshold = 0.13161910899: \n"
     ]
    },
    {
     "data": {
      "text/html": [
       "<div style=\"overflow:auto\"><table style=\"width:50%\"><tr><td><b></b></td>\n",
       "<td><b>0</b></td>\n",
       "<td><b>1</b></td>\n",
       "<td><b>Error</b></td>\n",
       "<td><b>Rate</b></td></tr>\n",
       "<tr><td>0</td>\n",
       "<td>206217.0</td>\n",
       "<td>516.0</td>\n",
       "<td>0.0025</td>\n",
       "<td> (516.0/206733.0)</td></tr>\n",
       "<tr><td>1</td>\n",
       "<td>1562.0</td>\n",
       "<td>541.0</td>\n",
       "<td>0.7427</td>\n",
       "<td> (1562.0/2103.0)</td></tr>\n",
       "<tr><td>Total</td>\n",
       "<td>207779.0</td>\n",
       "<td>1057.0</td>\n",
       "<td>0.01</td>\n",
       "<td> (2078.0/208836.0)</td></tr></table></div>"
      ],
      "text/plain": [
       "       0       1     Error    Rate\n",
       "-----  ------  ----  -------  -----------------\n",
       "0      206217  516   0.0025   (516.0/206733.0)\n",
       "1      1562    541   0.7427   (1562.0/2103.0)\n",
       "Total  207779  1057  0.01     (2078.0/208836.0)"
      ]
     },
     "metadata": {},
     "output_type": "display_data"
    },
    {
     "name": "stdout",
     "output_type": "stream",
     "text": [
      "Maximum Metrics: Maximum metrics at their respective thresholds\n",
      "\n"
     ]
    },
    {
     "data": {
      "text/html": [
       "<div style=\"overflow:auto\"><table style=\"width:50%\"><tr><td><b>metric</b></td>\n",
       "<td><b>threshold</b></td>\n",
       "<td><b>value</b></td>\n",
       "<td><b>idx</b></td></tr>\n",
       "<tr><td>max f1</td>\n",
       "<td>0.1316191</td>\n",
       "<td>0.3424051</td>\n",
       "<td>167.0</td></tr>\n",
       "<tr><td>max f2</td>\n",
       "<td>0.0534640</td>\n",
       "<td>0.3152688</td>\n",
       "<td>216.0</td></tr>\n",
       "<tr><td>max f0point5</td>\n",
       "<td>0.2201603</td>\n",
       "<td>0.4396135</td>\n",
       "<td>138.0</td></tr>\n",
       "<tr><td>max accuracy</td>\n",
       "<td>0.3338200</td>\n",
       "<td>0.9907822</td>\n",
       "<td>108.0</td></tr>\n",
       "<tr><td>max precision</td>\n",
       "<td>0.9255246</td>\n",
       "<td>1.0</td>\n",
       "<td>0.0</td></tr>\n",
       "<tr><td>max recall</td>\n",
       "<td>0.0002702</td>\n",
       "<td>1.0</td>\n",
       "<td>399.0</td></tr>\n",
       "<tr><td>max specificity</td>\n",
       "<td>0.9255246</td>\n",
       "<td>1.0</td>\n",
       "<td>0.0</td></tr>\n",
       "<tr><td>max absolute_mcc</td>\n",
       "<td>0.1371422</td>\n",
       "<td>0.3590863</td>\n",
       "<td>165.0</td></tr>\n",
       "<tr><td>max min_per_class_accuracy</td>\n",
       "<td>0.0188043</td>\n",
       "<td>0.8396531</td>\n",
       "<td>309.0</td></tr>\n",
       "<tr><td>max mean_per_class_accuracy</td>\n",
       "<td>0.0129892</td>\n",
       "<td>0.8561921</td>\n",
       "<td>329.0</td></tr></table></div>"
      ],
      "text/plain": [
       "metric                       threshold    value     idx\n",
       "---------------------------  -----------  --------  -----\n",
       "max f1                       0.131619     0.342405  167\n",
       "max f2                       0.053464     0.315269  216\n",
       "max f0point5                 0.22016      0.439614  138\n",
       "max accuracy                 0.33382      0.990782  108\n",
       "max precision                0.925525     1         0\n",
       "max recall                   0.000270152  1         399\n",
       "max specificity              0.925525     1         0\n",
       "max absolute_mcc             0.137142     0.359086  165\n",
       "max min_per_class_accuracy   0.0188043    0.839653  309\n",
       "max mean_per_class_accuracy  0.0129892    0.856192  329"
      ]
     },
     "metadata": {},
     "output_type": "display_data"
    },
    {
     "name": "stdout",
     "output_type": "stream",
     "text": [
      "Gains/Lift Table: Avg response rate:  1.01 %\n",
      "\n"
     ]
    },
    {
     "data": {
      "text/html": [
       "<div style=\"overflow:auto\"><table style=\"width:50%\"><tr><td><b></b></td>\n",
       "<td><b>group</b></td>\n",
       "<td><b>cumulative_data_fraction</b></td>\n",
       "<td><b>lower_threshold</b></td>\n",
       "<td><b>lift</b></td>\n",
       "<td><b>cumulative_lift</b></td>\n",
       "<td><b>response_rate</b></td>\n",
       "<td><b>cumulative_response_rate</b></td>\n",
       "<td><b>capture_rate</b></td>\n",
       "<td><b>cumulative_capture_rate</b></td>\n",
       "<td><b>gain</b></td>\n",
       "<td><b>cumulative_gain</b></td></tr>\n",
       "<tr><td></td>\n",
       "<td>1</td>\n",
       "<td>0.0100031</td>\n",
       "<td>0.0658917</td>\n",
       "<td>30.8512205</td>\n",
       "<td>30.8512205</td>\n",
       "<td>0.3106750</td>\n",
       "<td>0.3106750</td>\n",
       "<td>0.3086068</td>\n",
       "<td>0.3086068</td>\n",
       "<td>2985.1220543</td>\n",
       "<td>2985.1220543</td></tr>\n",
       "<tr><td></td>\n",
       "<td>2</td>\n",
       "<td>0.0200013</td>\n",
       "<td>0.0493218</td>\n",
       "<td>6.1351518</td>\n",
       "<td>18.4961447</td>\n",
       "<td>0.0617816</td>\n",
       "<td>0.1862581</td>\n",
       "<td>0.0613409</td>\n",
       "<td>0.3699477</td>\n",
       "<td>513.5151754</td>\n",
       "<td>1749.6144739</td></tr>\n",
       "<tr><td></td>\n",
       "<td>3</td>\n",
       "<td>0.0300044</td>\n",
       "<td>0.0420228</td>\n",
       "<td>4.8962646</td>\n",
       "<td>13.9621279</td>\n",
       "<td>0.0493059</td>\n",
       "<td>0.1406001</td>\n",
       "<td>0.0489777</td>\n",
       "<td>0.4189253</td>\n",
       "<td>389.6264585</td>\n",
       "<td>1296.2127880</td></tr>\n",
       "<tr><td></td>\n",
       "<td>4</td>\n",
       "<td>0.0400027</td>\n",
       "<td>0.0385112</td>\n",
       "<td>4.2803384</td>\n",
       "<td>11.5422600</td>\n",
       "<td>0.0431034</td>\n",
       "<td>0.1162317</td>\n",
       "<td>0.0427960</td>\n",
       "<td>0.4617214</td>\n",
       "<td>328.0338433</td>\n",
       "<td>1054.2259988</td></tr>\n",
       "<tr><td></td>\n",
       "<td>5</td>\n",
       "<td>0.0500010</td>\n",
       "<td>0.0365640</td>\n",
       "<td>4.0901012</td>\n",
       "<td>10.0521137</td>\n",
       "<td>0.0411877</td>\n",
       "<td>0.1012258</td>\n",
       "<td>0.0408940</td>\n",
       "<td>0.5026153</td>\n",
       "<td>309.0101169</td>\n",
       "<td>905.2113693</td></tr>\n",
       "<tr><td></td>\n",
       "<td>6</td>\n",
       "<td>0.1000019</td>\n",
       "<td>0.0307593</td>\n",
       "<td>3.1288036</td>\n",
       "<td>6.5904586</td>\n",
       "<td>0.0315074</td>\n",
       "<td>0.0663666</td>\n",
       "<td>0.1564432</td>\n",
       "<td>0.6590585</td>\n",
       "<td>212.8803600</td>\n",
       "<td>559.0458647</td></tr>\n",
       "<tr><td></td>\n",
       "<td>7</td>\n",
       "<td>0.1500029</td>\n",
       "<td>0.0220760</td>\n",
       "<td>2.7959522</td>\n",
       "<td>5.3256231</td>\n",
       "<td>0.0281555</td>\n",
       "<td>0.0536296</td>\n",
       "<td>0.1398003</td>\n",
       "<td>0.7988588</td>\n",
       "<td>179.5952153</td>\n",
       "<td>432.5623149</td></tr>\n",
       "<tr><td></td>\n",
       "<td>8</td>\n",
       "<td>0.2000038</td>\n",
       "<td>0.0147690</td>\n",
       "<td>1.9495585</td>\n",
       "<td>4.4816070</td>\n",
       "<td>0.0196323</td>\n",
       "<td>0.0451302</td>\n",
       "<td>0.0974798</td>\n",
       "<td>0.8963386</td>\n",
       "<td>94.9558474</td>\n",
       "<td>348.1606980</td></tr>\n",
       "<tr><td></td>\n",
       "<td>9</td>\n",
       "<td>0.3000010</td>\n",
       "<td>0.0080189</td>\n",
       "<td>0.8036370</td>\n",
       "<td>3.2556561</td>\n",
       "<td>0.0080927</td>\n",
       "<td>0.0327848</td>\n",
       "<td>0.0803614</td>\n",
       "<td>0.9767000</td>\n",
       "<td>-19.6363026</td>\n",
       "<td>225.5656115</td></tr>\n",
       "<tr><td></td>\n",
       "<td>10</td>\n",
       "<td>0.4000029</td>\n",
       "<td>0.0025213</td>\n",
       "<td>0.1378956</td>\n",
       "<td>2.4762067</td>\n",
       "<td>0.0013886</td>\n",
       "<td>0.0249357</td>\n",
       "<td>0.0137898</td>\n",
       "<td>0.9904898</td>\n",
       "<td>-86.2104401</td>\n",
       "<td>147.6206656</td></tr>\n",
       "<tr><td></td>\n",
       "<td>11</td>\n",
       "<td>0.5</td>\n",
       "<td>0.0013938</td>\n",
       "<td>0.0427972</td>\n",
       "<td>1.9895388</td>\n",
       "<td>0.0004310</td>\n",
       "<td>0.0200349</td>\n",
       "<td>0.0042796</td>\n",
       "<td>0.9947694</td>\n",
       "<td>-95.7202765</td>\n",
       "<td>98.9538754</td></tr>\n",
       "<tr><td></td>\n",
       "<td>12</td>\n",
       "<td>0.6000019</td>\n",
       "<td>0.0009926</td>\n",
       "<td>0.0237751</td>\n",
       "<td>1.6619062</td>\n",
       "<td>0.0002394</td>\n",
       "<td>0.0167356</td>\n",
       "<td>0.0023776</td>\n",
       "<td>0.9971469</td>\n",
       "<td>-97.6224897</td>\n",
       "<td>66.1906250</td></tr>\n",
       "<tr><td></td>\n",
       "<td>13</td>\n",
       "<td>0.6999990</td>\n",
       "<td>0.0004293</td>\n",
       "<td>0.0237762</td>\n",
       "<td>1.4278941</td>\n",
       "<td>0.0002394</td>\n",
       "<td>0.0143790</td>\n",
       "<td>0.0023776</td>\n",
       "<td>0.9995245</td>\n",
       "<td>-97.6223758</td>\n",
       "<td>42.7894080</td></tr>\n",
       "<tr><td></td>\n",
       "<td>14</td>\n",
       "<td>0.8000010</td>\n",
       "<td>0.0003277</td>\n",
       "<td>0.0</td>\n",
       "<td>1.2494041</td>\n",
       "<td>0.0</td>\n",
       "<td>0.0125816</td>\n",
       "<td>0.0</td>\n",
       "<td>0.9995245</td>\n",
       "<td>-100.0</td>\n",
       "<td>24.9404115</td></tr>\n",
       "<tr><td></td>\n",
       "<td>15</td>\n",
       "<td>0.8999981</td>\n",
       "<td>0.0002769</td>\n",
       "<td>0.0</td>\n",
       "<td>1.1105851</td>\n",
       "<td>0.0</td>\n",
       "<td>0.0111837</td>\n",
       "<td>0.0</td>\n",
       "<td>0.9995245</td>\n",
       "<td>-100.0</td>\n",
       "<td>11.0585129</td></tr>\n",
       "<tr><td></td>\n",
       "<td>16</td>\n",
       "<td>1.0</td>\n",
       "<td>0.0002353</td>\n",
       "<td>0.0047550</td>\n",
       "<td>1.0</td>\n",
       "<td>0.0000479</td>\n",
       "<td>0.0100701</td>\n",
       "<td>0.0004755</td>\n",
       "<td>1.0</td>\n",
       "<td>-99.5244979</td>\n",
       "<td>0.0</td></tr></table></div>"
      ],
      "text/plain": [
       "    group    cumulative_data_fraction    lower_threshold    lift        cumulative_lift    response_rate    cumulative_response_rate    capture_rate    cumulative_capture_rate    gain      cumulative_gain\n",
       "--  -------  --------------------------  -----------------  ----------  -----------------  ---------------  --------------------------  --------------  -------------------------  --------  -----------------\n",
       "    1        0.0100031                   0.0658917          30.8512     30.8512            0.310675         0.310675                    0.308607        0.308607                   2985.12   2985.12\n",
       "    2        0.0200013                   0.0493218          6.13515     18.4961            0.0617816        0.186258                    0.0613409       0.369948                   513.515   1749.61\n",
       "    3        0.0300044                   0.0420228          4.89626     13.9621            0.0493059        0.1406                      0.0489777       0.418925                   389.626   1296.21\n",
       "    4        0.0400027                   0.0385112          4.28034     11.5423            0.0431034        0.116232                    0.042796        0.461721                   328.034   1054.23\n",
       "    5        0.050001                    0.036564           4.0901      10.0521            0.0411877        0.101226                    0.040894        0.502615                   309.01    905.211\n",
       "    6        0.100002                    0.0307593          3.1288      6.59046            0.0315074        0.0663666                   0.156443        0.659058                   212.88    559.046\n",
       "    7        0.150003                    0.022076           2.79595     5.32562            0.0281555        0.0536296                   0.1398          0.798859                   179.595   432.562\n",
       "    8        0.200004                    0.014769           1.94956     4.48161            0.0196323        0.0451302                   0.0974798       0.896339                   94.9558   348.161\n",
       "    9        0.300001                    0.00801893         0.803637    3.25566            0.00809271       0.0327848                   0.0803614       0.9767                     -19.6363  225.566\n",
       "    10       0.400003                    0.00252127         0.137896    2.47621            0.00138862       0.0249357                   0.0137898       0.99049                    -86.2104  147.621\n",
       "    11       0.5                         0.00139383         0.0427972   1.98954            0.000430973      0.0200349                   0.0042796       0.994769                   -95.7203  98.9539\n",
       "    12       0.600002                    0.000992601        0.0237751   1.66191            0.000239418      0.0167356                   0.00237756      0.997147                   -97.6225  66.1906\n",
       "    13       0.699999                    0.000429314        0.0237762   1.42789            0.000239429      0.014379                    0.00237756      0.999524                   -97.6224  42.7894\n",
       "    14       0.800001                    0.000327709        0           1.2494             0                0.0125816                   0               0.999524                   -100      24.9404\n",
       "    15       0.899998                    0.000276949        0           1.11059            0                0.0111837                   0               0.999524                   -100      11.0585\n",
       "    16       1                           0.000235284        0.00475502  1                  4.78835e-05      0.0100701                   0.000475511     1                          -99.5245  0"
      ]
     },
     "metadata": {},
     "output_type": "display_data"
    },
    {
     "name": "stdout",
     "output_type": "stream",
     "text": [
      "\n",
      "\n"
     ]
    }
   ],
   "source": [
    "print rf_perf2"
   ]
  }
 ],
 "metadata": {
  "kernelspec": {
   "display_name": "Python 2",
   "language": "python",
   "name": "python2"
  },
  "language_info": {
   "codemirror_mode": {
    "name": "ipython",
    "version": 2
   },
   "file_extension": ".py",
   "mimetype": "text/x-python",
   "name": "python",
   "nbconvert_exporter": "python",
   "pygments_lexer": "ipython2",
   "version": "2.7.13"
  }
 },
 "nbformat": 4,
 "nbformat_minor": 2
}
